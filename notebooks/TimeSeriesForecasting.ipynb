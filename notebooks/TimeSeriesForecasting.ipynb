{
  "cells": [
    {
      "cell_type": "code",
      "execution_count": null,
      "metadata": {
        "id": "FLQC9ovwEi0u"
      },
      "outputs": [],
      "source": [
        "import os\n",
        "import datetime\n",
        "\n",
        "import IPython\n",
        "import IPython.display\n",
        "import matplotlib as mpl\n",
        "import matplotlib.pyplot as plt\n",
        "import numpy as np\n",
        "import pandas as pd\n",
        "import seaborn as sns\n",
        "import tensorflow as tf\n",
        "\n",
        "mpl.rcParams['figure.figsize'] = (8, 6)\n",
        "mpl.rcParams['axes.grid'] = False\n",
        "\n",
        "from google.cloud import bigquery\n",
        "\n",
        "# Fetch Credentials\n",
        "os.environ[\"GOOGLE_APPLICATION_CREDENTIALS\"] = 'local-receiver-341803-9e38525e7b40.json'\n",
        "\n",
        "# Build BigQuery Client\n",
        "client = bigquery.Client()"
      ]
    },
    {
      "cell_type": "code",
      "source": [
        "#Get the dataset\n",
        "\n",
        "# Query for Position Histories from BigQuery - change limit after we know it works\n",
        "QUERY = ('SELECT lastTrainReporting.positionHistoryList FROM `local-receiver-341803.testTrainEvents.train-event-data` LIMIT 50')\n",
        "query_job = client.query(QUERY)\n",
        "\n",
        "# Wait for job to finish\n",
        "rows = query_job.result()\n",
        "\n",
        "print(\"Num rows fetched: \" + str(rows.total_rows))\n",
        "\n",
        "\n"
      ],
      "metadata": {
        "id": "MiNugs4MIImU",
        "outputId": "d9b325bc-b664-4f20-91a9-ad91f673e3d8",
        "colab": {
          "base_uri": "https://localhost:8080/"
        }
      },
      "execution_count": 21,
      "outputs": [
        {
          "metadata": {
            "tags": null
          },
          "name": "stdout",
          "output_type": "stream",
          "text": [
            "Num rows fetched: 50\n"
          ]
        }
      ]
    },
    {
      "cell_type": "code",
      "source": [
        "# Create the data frame - should have a timestamp in it\n",
        "\n",
        "# Fetch each position time and milepost\n",
        "positionMilepostTimesDataFrame = pd.DataFrame()\n",
        "\n",
        "# For each returned record\n",
        "for row in rows:\n",
        "    # Scan each position history\n",
        "    for positionHistory in row.get('positionHistoryList'):\n",
        "        # The time that the train was at the specific milepost\n",
        "        # Record the position time as seconds from epoch to use in regression model\n",
        "        #positionTime = positionHistory.get('positionTime').timestamp()\n",
        "        positionTime = positionHistory.get('positionTime')\n",
        "\n",
        "        # How fast the train is traveling\n",
        "        speedMPH = positionHistory.get('speedMPH')\n",
        "\n",
        "        # Milepost location information\n",
        "        milepostLocation = positionHistory.get('milepostLocation')\n",
        "        # The unique identifier of the subdivision\n",
        "        subdivisionId = milepostLocation.get('subdivisionId')\n",
        "        # The unique identifier fo the milepost\n",
        "        milepostNumber = milepostLocation.get('milepost').get('milepostNumber')\n",
        "\n",
        "        # Construct new dataframe record\n",
        "        dataframeRow = {'PositionTime': positionTime, 'SpeedMPH': speedMPH, \n",
        "                        'SubdivisionId': subdivisionId, 'MilepostNumber':milepostNumber}\n",
        "\n",
        "        # Append the row to the data frame.\n",
        "        positionMilepostTimesDataFrame = positionMilepostTimesDataFrame.append(dataframeRow, ignore_index = True)\n",
        "\n",
        "\n",
        "#Return an item and drop from frame\n",
        "date_time = pd.to_datetime(positionMilepostTimesDataFrame.pop(\"PositionTime\"), format='%Y-%m-%d %H:%M:%S')\n",
        "\n",
        "print(\"date time: \\n\" + str(date_time))\n",
        "\n",
        "print(\"cols: \" + str(positionMilepostTimesDataFrame.columns))\n",
        "\n",
        "positionMilepostTimesDataFrame.head()"
      ],
      "metadata": {
        "id": "mmZvKR6uJQiN"
      },
      "execution_count": null,
      "outputs": []
    },
    {
      "cell_type": "code",
      "source": [
        "#Evolution of Features over time"
      ],
      "metadata": {
        "id": "EoUOiKMhWtWw"
      },
      "execution_count": null,
      "outputs": []
    },
    {
      "cell_type": "code",
      "source": [
        "# Inspect and clean up - look at statistics of dataset"
      ],
      "metadata": {
        "id": "HJ6-VEONWwj8"
      },
      "execution_count": null,
      "outputs": []
    }
  ],
  "metadata": {
    "interpreter": {
      "hash": "99fae7d265480b5fbb0cf965db398c4d2d7b17b55f6259418c7dbfe0de01ea90"
    },
    "kernelspec": {
      "display_name": "Python 3.8.5 64-bit",
      "language": "python",
      "name": "python3"
    },
    "language_info": {
      "codemirror_mode": {
        "name": "ipython",
        "version": 3
      },
      "file_extension": ".py",
      "mimetype": "text/x-python",
      "name": "python",
      "nbconvert_exporter": "python",
      "pygments_lexer": "ipython3",
      "version": "3.8.5"
    },
    "orig_nbformat": 4,
    "colab": {
      "name": "PositionHistoryMultipleRegression.ipynb",
      "provenance": []
    }
  },
  "nbformat": 4,
  "nbformat_minor": 0
}