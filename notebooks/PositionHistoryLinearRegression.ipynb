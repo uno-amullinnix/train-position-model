{
 "cells": [
  {
   "cell_type": "code",
   "execution_count": 21,
   "metadata": {},
   "outputs": [],
   "source": [
    "import os\n",
    "\n",
    "from google.cloud import bigquery\n",
    "\n",
    "# Fetch Credentials\n",
    "os.environ[\"GOOGLE_APPLICATION_CREDENTIALS\"] = 'resource/local-receiver-341803-261a3b7beea6.json'\n",
    "\n",
    "# Build BigQuery Client\n",
    "client = bigquery.Client()"
   ]
  },
  {
   "cell_type": "code",
   "execution_count": 22,
   "metadata": {},
   "outputs": [
    {
     "data": {
      "text/plain": [
       "[[1648747759.0, 278.9611],\n",
       " [1648747673.0, 279.8213],\n",
       " [1648747517.0, 281.4215],\n",
       " [1648747370.0, 282.9552],\n",
       " [1648747223.0, 284.4973]]"
      ]
     },
     "execution_count": 22,
     "metadata": {},
     "output_type": "execute_result"
    }
   ],
   "source": [
    "# Query for Position Histories from BigQuery\n",
    "QUERY = ('SELECT lastTrainReporting.positionHistoryList FROM `local-receiver-341803.PairingSession.TrainDataTable` LIMIT 1')\n",
    "query_job = client.query(QUERY)\n",
    "\n",
    "# Wait for job to finish\n",
    "rows = query_job.result()\n",
    "\n",
    "# Fetch each position time and milepost\n",
    "positionMilepostTimes = []\n",
    "\n",
    "for row in rows:\n",
    "    for positionHistory in row.get('positionHistoryList'):\n",
    "        # The time that the train was at the specific milepost\n",
    "        # Record the position time as seconds from epoch to use in linear regression model\n",
    "        positionTime = positionHistory.get('positionTime').timestamp()\n",
    "        # The unique identifier fo the milepost\n",
    "        milepostNumber = positionHistory.get('milepostLocation').get('milepost').get('milepostNumber')\n",
    "\n",
    "        positionMilepostTimes.append([positionTime, milepostNumber])\n",
    "\n",
    "positionMilepostTimes"
   ]
  },
  {
   "cell_type": "code",
   "execution_count": 23,
   "metadata": {},
   "outputs": [
    {
     "data": {
      "text/plain": [
       "LinearRegression()"
      ]
     },
     "execution_count": 23,
     "metadata": {},
     "output_type": "execute_result"
    }
   ],
   "source": [
    "import numpy as np\n",
    "\n",
    "from sklearn.linear_model import LinearRegression\n",
    "\n",
    "# Stage data\n",
    "X = np.array(positionMilepostTimes)[:,0].reshape(-1,1)\n",
    "y = np.array(positionMilepostTimes)[:,1].reshape(-1,1)\n",
    "\n",
    "# Fit the linear regression model\n",
    "regsr=LinearRegression()\n",
    "regsr.fit(X,y)"
   ]
  },
  {
   "cell_type": "code",
   "execution_count": 24,
   "metadata": {},
   "outputs": [
    {
     "name": "stdout",
     "output_type": "stream",
     "text": [
      "Predicted y:\n",
      " [[284.48159566]]\n",
      "slope (m):  [[-0.01033748]]\n",
      "y-intercept (c):  [17044169.36234174]\n"
     ]
    }
   ],
   "source": [
    "import datetime\n",
    "\n",
    "# Build predicition set\n",
    "to_predict_x = [datetime.datetime(2022, 3, 31, 17, 20, 23, tzinfo=datetime.timezone.utc).timestamp()]\n",
    "to_predict_x = np.array(to_predict_x).reshape(-1,1)\n",
    "\n",
    "# Predict \n",
    "predicted_y = regsr.predict(to_predict_x)\n",
    "\n",
    "m = regsr.coef_\n",
    "c = regsr.intercept_\n",
    "\n",
    "print(\"Predicted y:\\n\", predicted_y)\n",
    "print(\"slope (m): \", m)\n",
    "print(\"y-intercept (c): \" , c)"
   ]
  },
  {
   "cell_type": "code",
   "execution_count": 25,
   "metadata": {},
   "outputs": [
    {
     "data": {
      "image/png": "[encoded data removed]",
      "text/plain": [
       "<Figure size 432x288 with 1 Axes>"
      ]
     },
     "metadata": {
      "needs_background": "light"
     },
     "output_type": "display_data"
    }
   ],
   "source": [
    "import matplotlib.pyplot as plt\n",
    "\n",
    "plt.title('Predict the next mileposts in a given sequence')  \n",
    "plt.xlabel('PositionTime (Seconds)')  \n",
    "plt.ylabel('Milepost Number')\n",
    "plt.scatter(X,y,color=\"blue\")\n",
    "\n",
    "new_y = [m*i+c for i in np.append(X,to_predict_x)]\n",
    "new_y = np.array(new_y).reshape(-1,1)\n",
    "\n",
    "plt.plot(np.append(X,to_predict_x),new_y,color=\"red\")\n",
    "plt.show()"
   ]
  }
 ],
 "metadata": {
  "interpreter": {
   "hash": "99fae7d265480b5fbb0cf965db398c4d2d7b17b55f6259418c7dbfe0de01ea90"
  },
  "kernelspec": {
   "display_name": "Python 3.8.5 64-bit",
   "language": "python",
   "name": "python3"
  },
  "language_info": {
   "codemirror_mode": {
    "name": "ipython",
    "version": 3
   },
   "file_extension": ".py",
   "mimetype": "text/x-python",
   "name": "python",
   "nbconvert_exporter": "python",
   "pygments_lexer": "ipython3",
   "version": "3.8.5"
  },
  "orig_nbformat": 4
 },
 "nbformat": 4,
 "nbformat_minor": 2
}
