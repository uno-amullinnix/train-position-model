{
  "cells": [
    {
      "cell_type": "code",
      "execution_count": 3,
      "metadata": {
        "id": "FLQC9ovwEi0u"
      },
      "outputs": [],
      "source": [
        "import os\n",
        "\n",
        "#an import statement - you know to import something\n",
        "from google.cloud import bigquery\n",
        "\n",
        "# Fetch Credentials\n",
        "os.environ[\"GOOGLE_APPLICATION_CREDENTIALS\"] = 'local-receiver-341803-9e38525e7b40.json'\n",
        "\n",
        "# Build BigQuery Client\n",
        "client = bigquery.Client()"
      ]
    },
    {
      "cell_type": "code",
      "source": [
        "pwd"
      ],
      "metadata": {
        "id": "q5et4tqiUJSI",
        "outputId": "6ee18461-b41c-4fa6-f6c9-6854519c58fa",
        "colab": {
          "base_uri": "https://localhost:8080/",
          "height": 35
        }
      },
      "execution_count": 4,
      "outputs": [
        {
          "output_type": "execute_result",
          "data": {
            "text/plain": [
              "'/content'"
            ],
            "application/vnd.google.colaboratory.intrinsic+json": {
              "type": "string"
            }
          },
          "metadata": {},
          "execution_count": 4
        }
      ]
    },
    {
      "cell_type": "code",
      "execution_count": 6,
      "metadata": {
        "id": "G9hnK0y2Ei07",
        "outputId": "d03d64c9-9bf8-4f7b-f926-83d9747ac85b",
        "colab": {
          "base_uri": "https://localhost:8080/",
          "height": 206
        }
      },
      "outputs": [
        {
          "output_type": "execute_result",
          "data": {
            "text/plain": [
              "   PositionTime  SpeedMPH  SubdivisionId  MilepostNumber\n",
              "0  1.648865e+09     -11.0          106.0        766.9261\n",
              "1  1.648864e+09     -10.0          595.0        279.0362\n",
              "2  1.648864e+09      -9.0          595.0        279.1244\n",
              "3  1.648864e+09      -7.0          595.0        279.2209\n",
              "4  1.648864e+09      -3.0          595.0        279.3100"
            ],
            "text/html": [
              "\n",
              "  <div id=\"df-299f99eb-2de5-466e-82be-6e6899e21c38\">\n",
              "    <div class=\"colab-df-container\">\n",
              "      <div>\n",
              "<style scoped>\n",
              "    .dataframe tbody tr th:only-of-type {\n",
              "        vertical-align: middle;\n",
              "    }\n",
              "\n",
              "    .dataframe tbody tr th {\n",
              "        vertical-align: top;\n",
              "    }\n",
              "\n",
              "    .dataframe thead th {\n",
              "        text-align: right;\n",
              "    }\n",
              "</style>\n",
              "<table border=\"1\" class=\"dataframe\">\n",
              "  <thead>\n",
              "    <tr style=\"text-align: right;\">\n",
              "      <th></th>\n",
              "      <th>PositionTime</th>\n",
              "      <th>SpeedMPH</th>\n",
              "      <th>SubdivisionId</th>\n",
              "      <th>MilepostNumber</th>\n",
              "    </tr>\n",
              "  </thead>\n",
              "  <tbody>\n",
              "    <tr>\n",
              "      <th>0</th>\n",
              "      <td>1.648865e+09</td>\n",
              "      <td>-11.0</td>\n",
              "      <td>106.0</td>\n",
              "      <td>766.9261</td>\n",
              "    </tr>\n",
              "    <tr>\n",
              "      <th>1</th>\n",
              "      <td>1.648864e+09</td>\n",
              "      <td>-10.0</td>\n",
              "      <td>595.0</td>\n",
              "      <td>279.0362</td>\n",
              "    </tr>\n",
              "    <tr>\n",
              "      <th>2</th>\n",
              "      <td>1.648864e+09</td>\n",
              "      <td>-9.0</td>\n",
              "      <td>595.0</td>\n",
              "      <td>279.1244</td>\n",
              "    </tr>\n",
              "    <tr>\n",
              "      <th>3</th>\n",
              "      <td>1.648864e+09</td>\n",
              "      <td>-7.0</td>\n",
              "      <td>595.0</td>\n",
              "      <td>279.2209</td>\n",
              "    </tr>\n",
              "    <tr>\n",
              "      <th>4</th>\n",
              "      <td>1.648864e+09</td>\n",
              "      <td>-3.0</td>\n",
              "      <td>595.0</td>\n",
              "      <td>279.3100</td>\n",
              "    </tr>\n",
              "  </tbody>\n",
              "</table>\n",
              "</div>\n",
              "      <button class=\"colab-df-convert\" onclick=\"convertToInteractive('df-299f99eb-2de5-466e-82be-6e6899e21c38')\"\n",
              "              title=\"Convert this dataframe to an interactive table.\"\n",
              "              style=\"display:none;\">\n",
              "        \n",
              "  <svg xmlns=\"http://www.w3.org/2000/svg\" height=\"24px\"viewBox=\"0 0 24 24\"\n",
              "       width=\"24px\">\n",
              "    <path d=\"M0 0h24v24H0V0z\" fill=\"none\"/>\n",
              "    <path d=\"M18.56 5.44l.94 2.06.94-2.06 2.06-.94-2.06-.94-.94-2.06-.94 2.06-2.06.94zm-11 1L8.5 8.5l.94-2.06 2.06-.94-2.06-.94L8.5 2.5l-.94 2.06-2.06.94zm10 10l.94 2.06.94-2.06 2.06-.94-2.06-.94-.94-2.06-.94 2.06-2.06.94z\"/><path d=\"M17.41 7.96l-1.37-1.37c-.4-.4-.92-.59-1.43-.59-.52 0-1.04.2-1.43.59L10.3 9.45l-7.72 7.72c-.78.78-.78 2.05 0 2.83L4 21.41c.39.39.9.59 1.41.59.51 0 1.02-.2 1.41-.59l7.78-7.78 2.81-2.81c.8-.78.8-2.07 0-2.86zM5.41 20L4 18.59l7.72-7.72 1.47 1.35L5.41 20z\"/>\n",
              "  </svg>\n",
              "      </button>\n",
              "      \n",
              "  <style>\n",
              "    .colab-df-container {\n",
              "      display:flex;\n",
              "      flex-wrap:wrap;\n",
              "      gap: 12px;\n",
              "    }\n",
              "\n",
              "    .colab-df-convert {\n",
              "      background-color: #E8F0FE;\n",
              "      border: none;\n",
              "      border-radius: 50%;\n",
              "      cursor: pointer;\n",
              "      display: none;\n",
              "      fill: #1967D2;\n",
              "      height: 32px;\n",
              "      padding: 0 0 0 0;\n",
              "      width: 32px;\n",
              "    }\n",
              "\n",
              "    .colab-df-convert:hover {\n",
              "      background-color: #E2EBFA;\n",
              "      box-shadow: 0px 1px 2px rgba(60, 64, 67, 0.3), 0px 1px 3px 1px rgba(60, 64, 67, 0.15);\n",
              "      fill: #174EA6;\n",
              "    }\n",
              "\n",
              "    [theme=dark] .colab-df-convert {\n",
              "      background-color: #3B4455;\n",
              "      fill: #D2E3FC;\n",
              "    }\n",
              "\n",
              "    [theme=dark] .colab-df-convert:hover {\n",
              "      background-color: #434B5C;\n",
              "      box-shadow: 0px 1px 3px 1px rgba(0, 0, 0, 0.15);\n",
              "      filter: drop-shadow(0px 1px 2px rgba(0, 0, 0, 0.3));\n",
              "      fill: #FFFFFF;\n",
              "    }\n",
              "  </style>\n",
              "\n",
              "      <script>\n",
              "        const buttonEl =\n",
              "          document.querySelector('#df-299f99eb-2de5-466e-82be-6e6899e21c38 button.colab-df-convert');\n",
              "        buttonEl.style.display =\n",
              "          google.colab.kernel.accessAllowed ? 'block' : 'none';\n",
              "\n",
              "        async function convertToInteractive(key) {\n",
              "          const element = document.querySelector('#df-299f99eb-2de5-466e-82be-6e6899e21c38');\n",
              "          const dataTable =\n",
              "            await google.colab.kernel.invokeFunction('convertToInteractive',\n",
              "                                                     [key], {});\n",
              "          if (!dataTable) return;\n",
              "\n",
              "          const docLinkHtml = 'Like what you see? Visit the ' +\n",
              "            '<a target=\"_blank\" href=https://colab.research.google.com/notebooks/data_table.ipynb>data table notebook</a>'\n",
              "            + ' to learn more about interactive tables.';\n",
              "          element.innerHTML = '';\n",
              "          dataTable['output_type'] = 'display_data';\n",
              "          await google.colab.output.renderOutput(dataTable, element);\n",
              "          const docLink = document.createElement('div');\n",
              "          docLink.innerHTML = docLinkHtml;\n",
              "          element.appendChild(docLink);\n",
              "        }\n",
              "      </script>\n",
              "    </div>\n",
              "  </div>\n",
              "  "
            ]
          },
          "metadata": {},
          "execution_count": 6
        }
      ],
      "source": [
        "import pandas as pd\n",
        "\n",
        "# Query for Position Histories from BigQuery\n",
        "QUERY = ('SELECT lastTrainReporting.positionHistoryList FROM `local-receiver-341803.testTrainEvents.train-event-data` LIMIT 1')\n",
        "query_job = client.query(QUERY)\n",
        "\n",
        "# Wait for job to finish\n",
        "rows = query_job.result()\n",
        "\n",
        "# Fetch each position time and milepost\n",
        "positionMilepostTimesDataFrame = pd.DataFrame()\n",
        "\n",
        "# For each returned record\n",
        "for row in rows:\n",
        "    # Scan each position history\n",
        "    for positionHistory in row.get('positionHistoryList'):\n",
        "        # The time that the train was at the specific milepost\n",
        "        # Record the position time as seconds from epoch to use in regression model\n",
        "        positionTime = positionHistory.get('positionTime').timestamp()\n",
        "\n",
        "        # How fast the train is traveling\n",
        "        speedMPH = positionHistory.get('speedMPH')\n",
        "\n",
        "        # Milepost location information\n",
        "        milepostLocation = positionHistory.get('milepostLocation')\n",
        "        # The unique identifier of the subdivision\n",
        "        subdivisionId = milepostLocation.get('subdivisionId')\n",
        "        # The unique identifier fo the milepost\n",
        "        milepostNumber = milepostLocation.get('milepost').get('milepostNumber')\n",
        "\n",
        "        # Construct new dataframe record\n",
        "        dataframeRow = {'PositionTime': positionTime, 'SpeedMPH': speedMPH, \n",
        "                        'SubdivisionId': subdivisionId, 'MilepostNumber':milepostNumber}\n",
        "\n",
        "        # Append the row to the data frame.\n",
        "        positionMilepostTimesDataFrame = positionMilepostTimesDataFrame.append(dataframeRow, ignore_index = True)\n",
        "\n",
        "positionMilepostTimesDataFrame\n"
      ]
    },
    {
      "cell_type": "code",
      "execution_count": 8,
      "metadata": {
        "id": "pAqBVBWuEi2m",
        "outputId": "58e9dcca-cb94-4405-eff8-38023d2cf628",
        "colab": {
          "base_uri": "https://localhost:8080/"
        }
      },
      "outputs": [
        {
          "output_type": "execute_result",
          "data": {
            "text/plain": [
              "LinearRegression()"
            ]
          },
          "metadata": {},
          "execution_count": 8
        }
      ],
      "source": [
        "from sklearn.linear_model import LinearRegression\n",
        "import numpy as np\n",
        "\n",
        "# Fetch the position time\n",
        "X = np.array(positionMilepostTimesDataFrame)[:,1].reshape(-1,1)\n",
        "y = np.array(positionMilepostTimesDataFrame.drop('PositionTime',axis=1)).reshape(-1, 3)\n",
        "\n",
        "# Fit the linear regression model\n",
        "regsr=LinearRegression()\n",
        "regsr.fit(X,y)"
      ]
    },
    {
      "cell_type": "code",
      "execution_count": 9,
      "metadata": {
        "id": "FwmfMHQmEi2p",
        "outputId": "7e25cf9d-2fc6-4a37-8758-1b3693d02f05",
        "colab": {
          "base_uri": "https://localhost:8080/"
        }
      },
      "outputs": [
        {
          "output_type": "stream",
          "name": "stdout",
          "text": [
            "Predicted y:\n",
            " [[ 1.64874722e+09  6.04678052e+10 -6.02701278e+10]]\n",
            "slope (m):  [[  1.      ]\n",
            " [ 36.675   ]\n",
            " [-36.555105]]\n",
            "y-intercept (c):  [  0.      790.6      84.28268]\n"
          ]
        }
      ],
      "source": [
        "import datetime\n",
        "\n",
        "# Build predicition set\n",
        "to_predict_x = [datetime.datetime(2022, 3, 31, 17, 20, 23, tzinfo=datetime.timezone.utc).timestamp()]\n",
        "to_predict_x = np.array(to_predict_x).reshape(-1,1)\n",
        "\n",
        "# Predict \n",
        "predicted_y = regsr.predict(to_predict_x)\n",
        "\n",
        "m = regsr.coef_\n",
        "c = regsr.intercept_\n",
        "\n",
        "print(\"Predicted y:\\n\", predicted_y)\n",
        "print(\"slope (m): \", m)\n",
        "print(\"y-intercept (c): \", c)\n"
      ]
    }
  ],
  "metadata": {
    "interpreter": {
      "hash": "99fae7d265480b5fbb0cf965db398c4d2d7b17b55f6259418c7dbfe0de01ea90"
    },
    "kernelspec": {
      "display_name": "Python 3.8.5 64-bit",
      "language": "python",
      "name": "python3"
    },
    "language_info": {
      "codemirror_mode": {
        "name": "ipython",
        "version": 3
      },
      "file_extension": ".py",
      "mimetype": "text/x-python",
      "name": "python",
      "nbconvert_exporter": "python",
      "pygments_lexer": "ipython3",
      "version": "3.8.5"
    },
    "orig_nbformat": 4,
    "colab": {
      "name": "PositionHistoryMultipleRegression.ipynb",
      "provenance": []
    }
  },
  "nbformat": 4,
  "nbformat_minor": 0
}
