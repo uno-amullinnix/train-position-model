{
 "cells": [
  {
   "cell_type": "code",
   "execution_count": 69,
   "metadata": {},
   "outputs": [],
   "source": [
    "import os\n",
    "\n",
    "from google.cloud import bigquery\n",
    "\n",
    "# Fetch Credentials\n",
    "os.environ[\"GOOGLE_APPLICATION_CREDENTIALS\"] = 'resource/local-receiver-341803-261a3b7beea6.json'\n",
    "\n",
    "# Build BigQuery Client\n",
    "client = bigquery.Client()"
   ]
  },
  {
   "cell_type": "code",
   "execution_count": 70,
   "metadata": {},
   "outputs": [
    {
     "data": {
      "text/html": [
       "<div>\n",
       "<style scoped>\n",
       "    .dataframe tbody tr th:only-of-type {\n",
       "        vertical-align: middle;\n",
       "    }\n",
       "\n",
       "    .dataframe tbody tr th {\n",
       "        vertical-align: top;\n",
       "    }\n",
       "\n",
       "    .dataframe thead th {\n",
       "        text-align: right;\n",
       "    }\n",
       "</style>\n",
       "<table border=\"1\" class=\"dataframe\">\n",
       "  <thead>\n",
       "    <tr style=\"text-align: right;\">\n",
       "      <th></th>\n",
       "      <th>MilepostNumber</th>\n",
       "      <th>PositionTime</th>\n",
       "      <th>SpeedMPH</th>\n",
       "      <th>SubdivisionId</th>\n",
       "    </tr>\n",
       "  </thead>\n",
       "  <tbody>\n",
       "    <tr>\n",
       "      <th>0</th>\n",
       "      <td>278.9611</td>\n",
       "      <td>1.648748e+09</td>\n",
       "      <td>-35.0</td>\n",
       "      <td>106.0</td>\n",
       "    </tr>\n",
       "    <tr>\n",
       "      <th>1</th>\n",
       "      <td>279.8213</td>\n",
       "      <td>1.648748e+09</td>\n",
       "      <td>-37.0</td>\n",
       "      <td>106.0</td>\n",
       "    </tr>\n",
       "    <tr>\n",
       "      <th>2</th>\n",
       "      <td>281.4215</td>\n",
       "      <td>1.648748e+09</td>\n",
       "      <td>-38.0</td>\n",
       "      <td>106.0</td>\n",
       "    </tr>\n",
       "    <tr>\n",
       "      <th>3</th>\n",
       "      <td>282.9552</td>\n",
       "      <td>1.648747e+09</td>\n",
       "      <td>-36.0</td>\n",
       "      <td>106.0</td>\n",
       "    </tr>\n",
       "    <tr>\n",
       "      <th>4</th>\n",
       "      <td>284.4973</td>\n",
       "      <td>1.648747e+09</td>\n",
       "      <td>-38.0</td>\n",
       "      <td>106.0</td>\n",
       "    </tr>\n",
       "  </tbody>\n",
       "</table>\n",
       "</div>"
      ],
      "text/plain": [
       "   MilepostNumber  PositionTime  SpeedMPH  SubdivisionId\n",
       "0        278.9611  1.648748e+09     -35.0          106.0\n",
       "1        279.8213  1.648748e+09     -37.0          106.0\n",
       "2        281.4215  1.648748e+09     -38.0          106.0\n",
       "3        282.9552  1.648747e+09     -36.0          106.0\n",
       "4        284.4973  1.648747e+09     -38.0          106.0"
      ]
     },
     "execution_count": 70,
     "metadata": {},
     "output_type": "execute_result"
    }
   ],
   "source": [
    "import pandas as pd\n",
    "\n",
    "# Query for Position Histories from BigQuery\n",
    "QUERY = ('SELECT lastTrainReporting.positionHistoryList FROM `local-receiver-341803.PairingSession.TrainDataTable` LIMIT 1')\n",
    "query_job = client.query(QUERY)\n",
    "\n",
    "# Wait for job to finish\n",
    "rows = query_job.result()\n",
    "\n",
    "# Fetch each position time and milepost\n",
    "positionMilepostTimesDataFrame = pd.DataFrame()\n",
    "\n",
    "# For each returned record\n",
    "for row in rows:\n",
    "    # Scan each position history\n",
    "    for positionHistory in row.get('positionHistoryList'):\n",
    "        # The time that the train was at the specific milepost\n",
    "        # Record the position time as seconds from epoch to use in regression model\n",
    "        positionTime = positionHistory.get('positionTime').timestamp()\n",
    "\n",
    "        # How fast the train is traveling\n",
    "        speedMPH = positionHistory.get('speedMPH')\n",
    "\n",
    "        # Milepost location information\n",
    "        milepostLocation = positionHistory.get('milepostLocation')\n",
    "        # The unique identifier of the subdivision\n",
    "        subdivisionId = milepostLocation.get('subdivisionId')\n",
    "        # The unique identifier fo the milepost\n",
    "        milepostNumber = milepostLocation.get('milepost').get('milepostNumber')\n",
    "\n",
    "        # Construct new dataframe record\n",
    "        dataframeRow = {'PositionTime': positionTime, 'SpeedMPH': speedMPH, \n",
    "                        'SubdivisionId': subdivisionId, 'MilepostNumber':milepostNumber}\n",
    "\n",
    "        # Append the row to the data frame.\n",
    "        positionMilepostTimesDataFrame = positionMilepostTimesDataFrame.append(dataframeRow, ignore_index = True)\n",
    "\n",
    "positionMilepostTimesDataFrame\n"
   ]
  },
  {
   "cell_type": "code",
   "execution_count": 71,
   "metadata": {},
   "outputs": [
    {
     "data": {
      "text/plain": [
       "LinearRegression()"
      ]
     },
     "execution_count": 71,
     "metadata": {},
     "output_type": "execute_result"
    }
   ],
   "source": [
    "from sklearn.linear_model import LinearRegression\n",
    "import numpy as np\n",
    "\n",
    "# Fetch the position time\n",
    "X = np.array(positionMilepostTimesDataFrame)[:,1].reshape(-1,1)\n",
    "y = np.array(positionMilepostTimesDataFrame.drop('PositionTime',axis=1)).reshape(-1, 3)\n",
    "\n",
    "# Fit the linear regression model\n",
    "regsr=LinearRegression()\n",
    "regsr.fit(X,y)"
   ]
  },
  {
   "cell_type": "code",
   "execution_count": 72,
   "metadata": {},
   "outputs": [
    {
     "name": "stdout",
     "output_type": "stream",
     "text": [
      "Predicted y:\n",
      " [[284.48159566 -37.75784677 106.        ]]\n",
      "slope (m):  [[-0.01033748]\n",
      " [ 0.00335616]\n",
      " [-0.        ]]\n",
      "y-intercept (c):  [ 1.70441694e+07 -5.53348977e+06  1.06000000e+02]\n"
     ]
    }
   ],
   "source": [
    "import datetime\n",
    "\n",
    "# Build predicition set\n",
    "to_predict_x = [datetime.datetime(2022, 3, 31, 17, 20, 23, tzinfo=datetime.timezone.utc).timestamp()]\n",
    "to_predict_x = np.array(to_predict_x).reshape(-1,1)\n",
    "\n",
    "# Predict \n",
    "predicted_y = regsr.predict(to_predict_x)\n",
    "\n",
    "m = regsr.coef_\n",
    "c = regsr.intercept_\n",
    "\n",
    "print(\"Predicted y:\\n\", predicted_y)\n",
    "print(\"slope (m): \", m)\n",
    "print(\"y-intercept (c): \", c)\n"
   ]
  }
 ],
 "metadata": {
  "interpreter": {
   "hash": "99fae7d265480b5fbb0cf965db398c4d2d7b17b55f6259418c7dbfe0de01ea90"
  },
  "kernelspec": {
   "display_name": "Python 3.8.5 64-bit",
   "language": "python",
   "name": "python3"
  },
  "language_info": {
   "codemirror_mode": {
    "name": "ipython",
    "version": 3
   },
   "file_extension": ".py",
   "mimetype": "text/x-python",
   "name": "python",
   "nbconvert_exporter": "python",
   "pygments_lexer": "ipython3",
   "version": "3.8.5"
  },
  "orig_nbformat": 4
 },
 "nbformat": 4,
 "nbformat_minor": 2
}
